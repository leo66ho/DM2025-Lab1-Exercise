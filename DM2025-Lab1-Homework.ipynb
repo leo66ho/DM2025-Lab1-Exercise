{
 "cells": [
  {
   "cell_type": "markdown",
   "metadata": {},
   "source": [
    "### Student Information\n",
    "Name: 何承恩\n",
    "\n",
    "Student ID: 114062554\n",
    "\n",
    "GitHub ID:"
   ]
  },
  {
   "cell_type": "markdown",
   "metadata": {},
   "source": [
    "---"
   ]
  },
  {
   "cell_type": "markdown",
   "metadata": {},
   "source": [
    "### Instructions"
   ]
  },
  {
   "cell_type": "markdown",
   "metadata": {},
   "source": [
    "### First Phase Submission"
   ]
  },
  {
   "cell_type": "markdown",
   "metadata": {},
   "source": [
    "1. First: do the **take home** exercises in the [DM2025-Lab1-Master](https://github.com/leoson-wu/DM2025-Lab1-Exercise/blob/main/DM2025-Lab1-Master.ipynb) that considered as **phase 1 (from exercise 1 to exercise 15)**. You can answer in the master file. __This part is worth 10% of your grade.__\n",
    "\n",
    "\n",
    "2. Second: follow the same process from the [DM2025-Lab1-Master](https://github.com/leoson-wu/DM2025-Lab1-Exercise/blob/main/DM2025-Lab1-Master.ipynb) on **the new dataset** up **until phase 1**. You can skip some exercises if you think some steps are not necessary. However main exercises should be completed. You don't need to explain all details as we did (some **minimal comments** explaining your code are useful though).  __This part is worth 15% of your grade.__\n",
    "    -  Use [the new dataset](https://github.com/leoson-wu/DM2025-Lab1-Exercise/blob/main/newdataset/Reddit-stock-sentiment.csv). The dataset contains a 16 columns including 'text' and 'label', with the sentiment labels being: 1.0 is positive, 0.0 is neutral and -1.0 is negative. You can simplify the dataset and use only the columns that you think are necessary. \n",
    "    \n",
    "    - You are allowed to use and modify the `helper` functions in the folder of the first lab session (notice they may need modification) or create your own.\n",
    "    - Use this file to complete the homework from the second part. Make sure the code can be run from the beginning till the end and has all the needed output.\n",
    "\n",
    "\n",
    "3. Third: please attempt the following tasks on **the new dataset**. __This part is worth 10% of your grade.__\n",
    "    - Generate meaningful **new data visualizations**. Refer to online resources and the Data Mining textbook for inspiration and ideas. \n",
    "    \n",
    "\n",
    "\n",
    "4. Fourth: It's hard for us to follow if your code is messy, so please **tidy up your notebook** and **add minimal comments where needed**. __This part is worth 5% of your grade.__\n",
    "\n",
    "You can submit your homework following these guidelines: [DM2025-Lab1-announcement](https://github.com/leoson-wu/DM2025-Lab1-Announcement/blob/main/README.md). Make sure to commit and save your changes to your repository __BEFORE the deadline (September 28th 11:59 pm, Sunday)__. "
   ]
  },
  {
   "cell_type": "markdown",
   "metadata": {},
   "source": [
    "### Second Phase Submission "
   ]
  },
  {
   "cell_type": "markdown",
   "metadata": {},
   "source": [
    "**You can keep the answer for phase 1 for easier running and update the phase 2 on the same page.**\n",
    "\n",
    "1. First: Continue doing the **take home** exercises in the [DM2025-Lab1-Master](https://github.com/leoson-wu/DM2025-Lab1-Exercise/blob/main/DM2025-Lab1-Master.ipynb) for **phase 2, starting from Finding frequent patterns**. Use the same master(.ipynb) file. Answer from phase 1 will not be considered at this stage. You can answer in the master file. __This part is worth 10% of your grade.__\n",
    "\n",
    "\n",
    "2. Second: Continue from first phase and do the same process from the [DM2025-Lab1-Master](https://github.com/leoson-wu/DM2025-Lab1-Exercise/blob/main/DM2025-Lab1-Master.ipynb) on **the new dataset** for phase 2, starting from Finding frequent pattern. You can skip some exercises if you think some steps are not necessary. However main exercises should be completed. You don't need to explain all details as we did (some **minimal comments** explaining your code are useful though).  __This part is worth 15% of your grade.__\n",
    "    - Continue using this file to complete the homework from the second part. Make sure the code can be run from the beginning till the end and has all the needed output. Use the same new dataset as in phase 1.\n",
    "    \n",
    "    - You are allowed to use and modify the `helper` functions in the folder of the first lab session (notice they may need modification) or create your own.\n",
    "\n",
    "3. Third: please attempt the following tasks on **the new dataset**. __This part is worth 20% of your grade.__\n",
    "    - Use this file to answer.\n",
    "    - Generate **TF-IDF features** from the tokens of each text. This will generating a document matrix, however, the weights will be computed differently (using the TF-IDF value of each word per document as opposed to the word frequency).  Refer to this Scikit-learn [guide](http://scikit-learn.org/stable/modules/generated/sklearn.feature_extraction.text.TfidfVectorizer.html) .\n",
    "    - Implement a simple **Naive Bayes classifier** that automatically classifies the records into their categories. Use both the TF-IDF features and word frequency features to build two seperate classifiers. Note that for the TF-IDF features you might need to use other type of NB classifier different than the one in the Master Notebook. Comment on the differences and when using augmentation with feature pattern.  Refer to this [article](https://hub.packtpub.com/implementing-3-naive-bayes-classifiers-in-scikit-learn/).\n",
    "\n",
    "\n",
    "4. Fourth: In the lab, we applied each step really quickly just to illustrate how to work with your dataset. There are somethings that are not ideal or the most efficient/meaningful. Each dataset can be handled differently as well. What are those inefficent parts you noticed? How can you improve the Data preprocessing for these specific datasets? __This part is worth 10% of your grade.__\n",
    "\n",
    "\n",
    "5. Fifth: It's hard for us to follow if your code is messy, so please **tidy up your notebook** and **add minimal comments where needed**. __This part is worth 5% of your grade.__\n",
    "\n",
    "\n",
    "You can submit your homework following these guidelines: [DM2025-Lab1-announcement](https://github.com/leoson-wu/DM2025-Lab1-Announcement/blob/main/README.md). Make sure to commit and save your changes to your repository __BEFORE the deadline (October 19th 11:59 pm, Sunday)__. "
   ]
  },
  {
   "cell_type": "markdown",
   "metadata": {},
   "source": [
    "# Phase 1"
   ]
  },
  {
   "cell_type": "code",
   "execution_count": 11,
   "metadata": {},
   "outputs": [
    {
     "name": "stderr",
     "output_type": "stream",
     "text": [
      "[nltk_data] Downloading package punkt to\n",
      "[nltk_data]     C:\\Users\\leoho\\AppData\\Roaming\\nltk_data...\n",
      "[nltk_data]   Package punkt is already up-to-date!\n"
     ]
    }
   ],
   "source": [
    "### Begin Assignment Here\n",
    "\n",
    "## Load needed libraries\n",
    "import pandas as pd\n",
    "import numpy as np\n",
    "import nltk\n",
    "nltk.download('punkt') # download the NLTK datasets\n",
    "import sklearn.datasets\n",
    "from sklearn.feature_extraction.text import CountVectorizer\n",
    "import plotly as py\n",
    "import plotly.express as px\n",
    "import math\n",
    "# If you get \"ModuleNotFoundError: No module named 'PAMI'\"\n",
    "# run the following in a new Jupyter cell:\n",
    "# !pip3 install PAMI\n",
    "import PAMI\n",
    "import umap\n",
    "\n",
    "import helpers.data_mining_helpers as dmh\n"
   ]
  },
  {
   "cell_type": "code",
   "execution_count": 3,
   "metadata": {},
   "outputs": [
    {
     "name": "stderr",
     "output_type": "stream",
     "text": [
      "C:\\Users\\leoho\\AppData\\Local\\Temp\\ipykernel_3304\\57475715.py:3: FutureWarning: Passing a DataFrame to DataFrame.from_records is deprecated. Use set_index and/or drop to modify the DataFrame instead.\n",
      "  reddit_dataset = pd.DataFrame.from_records(reddit_dataset, columns=['title', 'upvotes', 'text', 'subjectivity', 'sentiment', 'polarity', 'entities', 'label'])\n"
     ]
    },
    {
     "data": {
      "text/html": [
       "<div>\n",
       "<style scoped>\n",
       "    .dataframe tbody tr th:only-of-type {\n",
       "        vertical-align: middle;\n",
       "    }\n",
       "\n",
       "    .dataframe tbody tr th {\n",
       "        vertical-align: top;\n",
       "    }\n",
       "\n",
       "    .dataframe thead th {\n",
       "        text-align: right;\n",
       "    }\n",
       "</style>\n",
       "<table border=\"1\" class=\"dataframe\">\n",
       "  <thead>\n",
       "    <tr style=\"text-align: right;\">\n",
       "      <th></th>\n",
       "      <th>title</th>\n",
       "      <th>upvotes</th>\n",
       "      <th>text</th>\n",
       "      <th>subjectivity</th>\n",
       "      <th>sentiment</th>\n",
       "      <th>polarity</th>\n",
       "      <th>entities</th>\n",
       "      <th>label</th>\n",
       "    </tr>\n",
       "  </thead>\n",
       "  <tbody>\n",
       "    <tr>\n",
       "      <th>0</th>\n",
       "      <td>Retardation is on the menu boys! WSB is so back</td>\n",
       "      <td>0.0</td>\n",
       "      <td>Calls on retards</td>\n",
       "      <td>1</td>\n",
       "      <td>-1</td>\n",
       "      <td>-0.9</td>\n",
       "      <td>[]</td>\n",
       "      <td>-1</td>\n",
       "    </tr>\n",
       "    <tr>\n",
       "      <th>1</th>\n",
       "      <td>Retail giant TARGET has now declined for 10 co...</td>\n",
       "      <td>-15.0</td>\n",
       "      <td>Stunt as in like why did they even make a big ...</td>\n",
       "      <td>0.177777778</td>\n",
       "      <td>1</td>\n",
       "      <td>0.083333333</td>\n",
       "      <td>['Stunt', 'company', 'deal', 'place']</td>\n",
       "      <td>0</td>\n",
       "    </tr>\n",
       "    <tr>\n",
       "      <th>2</th>\n",
       "      <td>How do you feel about a sitting president maki...</td>\n",
       "      <td>1.0</td>\n",
       "      <td>Seeing lots of red in the ticker.</td>\n",
       "      <td>0</td>\n",
       "      <td>0</td>\n",
       "      <td>0</td>\n",
       "      <td>['ticker']</td>\n",
       "      <td>0</td>\n",
       "    </tr>\n",
       "    <tr>\n",
       "      <th>3</th>\n",
       "      <td>Who knows more? $VMAR</td>\n",
       "      <td>30.0</td>\n",
       "      <td>Vision Marine Technologies Inc. is rewriting t...</td>\n",
       "      <td>0.646969697</td>\n",
       "      <td>1</td>\n",
       "      <td>0.216382576</td>\n",
       "      <td>['watercraft', 'skill', 'power', ']', 'feat', ...</td>\n",
       "      <td>1</td>\n",
       "    </tr>\n",
       "    <tr>\n",
       "      <th>4</th>\n",
       "      <td>The Trump administration is begging Xi Jinping...</td>\n",
       "      <td>1.0</td>\n",
       "      <td>He didn? say thank you.</td>\n",
       "      <td>0</td>\n",
       "      <td>0</td>\n",
       "      <td>0</td>\n",
       "      <td>[]</td>\n",
       "      <td>-1</td>\n",
       "    </tr>\n",
       "    <tr>\n",
       "      <th>...</th>\n",
       "      <td>...</td>\n",
       "      <td>...</td>\n",
       "      <td>...</td>\n",
       "      <td>...</td>\n",
       "      <td>...</td>\n",
       "      <td>...</td>\n",
       "      <td>...</td>\n",
       "      <td>...</td>\n",
       "    </tr>\n",
       "    <tr>\n",
       "      <th>842</th>\n",
       "      <td>$MRIN Marin Software killed it today. Hope som...</td>\n",
       "      <td>1.0</td>\n",
       "      <td>Invest now it is going to shoot up tomorrow</td>\n",
       "      <td>0</td>\n",
       "      <td>0</td>\n",
       "      <td>0</td>\n",
       "      <td>['tomorrow']</td>\n",
       "      <td>1</td>\n",
       "    </tr>\n",
       "    <tr>\n",
       "      <th>843</th>\n",
       "      <td>$ U.S. dollar value (crashing)</td>\n",
       "      <td>2.0</td>\n",
       "      <td>Where can I read this?</td>\n",
       "      <td>0</td>\n",
       "      <td>0</td>\n",
       "      <td>0</td>\n",
       "      <td>[]</td>\n",
       "      <td>0</td>\n",
       "    </tr>\n",
       "    <tr>\n",
       "      <th>844</th>\n",
       "      <td>Analyst Recommendations</td>\n",
       "      <td>1.0</td>\n",
       "      <td>Upgrades, Downgrades\\r\\n\\r\\n [Stock Analyst Re...</td>\n",
       "      <td>0</td>\n",
       "      <td>0</td>\n",
       "      <td>0</td>\n",
       "      <td>['Analyst', 'Nasdaq', 'Stock', 'Upgrades', 'Do...</td>\n",
       "      <td>0</td>\n",
       "    </tr>\n",
       "    <tr>\n",
       "      <th>845</th>\n",
       "      <td>Weekend Discussion Thread for the Weekend of A...</td>\n",
       "      <td>10.0</td>\n",
       "      <td>i sold my puts so i expect cheeto to declare w...</td>\n",
       "      <td>0</td>\n",
       "      <td>0</td>\n",
       "      <td>0</td>\n",
       "      <td>['war', 'denmark', 'cheeto', 'i']</td>\n",
       "      <td>-1</td>\n",
       "    </tr>\n",
       "    <tr>\n",
       "      <th>846</th>\n",
       "      <td>Someone post the hotline please.</td>\n",
       "      <td>1.0</td>\n",
       "      <td>![img](emote|t5_2th52|31224)</td>\n",
       "      <td>0</td>\n",
       "      <td>0</td>\n",
       "      <td>0</td>\n",
       "      <td>['img', ']', '[', 'emote|t5_2th52|31224']</td>\n",
       "      <td>0</td>\n",
       "    </tr>\n",
       "  </tbody>\n",
       "</table>\n",
       "<p>847 rows × 8 columns</p>\n",
       "</div>"
      ],
      "text/plain": [
       "                                                 title  upvotes  \\\n",
       "0      Retardation is on the menu boys! WSB is so back      0.0   \n",
       "1    Retail giant TARGET has now declined for 10 co...    -15.0   \n",
       "2    How do you feel about a sitting president maki...      1.0   \n",
       "3                                Who knows more? $VMAR     30.0   \n",
       "4    The Trump administration is begging Xi Jinping...      1.0   \n",
       "..                                                 ...      ...   \n",
       "842  $MRIN Marin Software killed it today. Hope som...      1.0   \n",
       "843                     $ U.S. dollar value (crashing)      2.0   \n",
       "844                            Analyst Recommendations      1.0   \n",
       "845  Weekend Discussion Thread for the Weekend of A...     10.0   \n",
       "846                   Someone post the hotline please.      1.0   \n",
       "\n",
       "                                                  text subjectivity sentiment  \\\n",
       "0                                     Calls on retards            1        -1   \n",
       "1    Stunt as in like why did they even make a big ...  0.177777778         1   \n",
       "2                    Seeing lots of red in the ticker.            0         0   \n",
       "3    Vision Marine Technologies Inc. is rewriting t...  0.646969697         1   \n",
       "4                             He didn? say thank you.            0         0   \n",
       "..                                                 ...          ...       ...   \n",
       "842        Invest now it is going to shoot up tomorrow            0         0   \n",
       "843                             Where can I read this?            0         0   \n",
       "844  Upgrades, Downgrades\\r\\n\\r\\n [Stock Analyst Re...            0         0   \n",
       "845  i sold my puts so i expect cheeto to declare w...            0         0   \n",
       "846                       ![img](emote|t5_2th52|31224)            0         0   \n",
       "\n",
       "        polarity                                           entities label  \n",
       "0           -0.9                                                 []    -1  \n",
       "1    0.083333333              ['Stunt', 'company', 'deal', 'place']     0  \n",
       "2              0                                         ['ticker']     0  \n",
       "3    0.216382576  ['watercraft', 'skill', 'power', ']', 'feat', ...     1  \n",
       "4              0                                                 []    -1  \n",
       "..           ...                                                ...   ...  \n",
       "842            0                                       ['tomorrow']     1  \n",
       "843            0                                                 []     0  \n",
       "844            0  ['Analyst', 'Nasdaq', 'Stock', 'Upgrades', 'Do...     0  \n",
       "845            0                  ['war', 'denmark', 'cheeto', 'i']    -1  \n",
       "846            0          ['img', ']', '[', 'emote|t5_2th52|31224']     0  \n",
       "\n",
       "[847 rows x 8 columns]"
      ]
     },
     "execution_count": 3,
     "metadata": {},
     "output_type": "execute_result"
    }
   ],
   "source": [
    "## Convert reddit dataset to pandas dataframe\n",
    "reddit_dataset = pd.read_csv('newdataset/Reddit-stock-sentiment.csv')\n",
    "reddit_dataset = pd.DataFrame.from_records(reddit_dataset, columns=['title', 'upvotes', 'text', 'subjectivity', 'sentiment', 'polarity', 'entities', 'label'])\n",
    "reddit_dataset"
   ]
  },
  {
   "cell_type": "code",
   "execution_count": 4,
   "metadata": {},
   "outputs": [],
   "source": [
    "## Check missing values\n",
    "reddit_dataset.isnull().apply(lambda x: dmh.check_missing_values(x))\n",
    "## Check duplicate values\n",
    "reddit_dataset.duplicated().sum()\n",
    "reddit_dataset.drop_duplicates(keep=False, inplace=True)\n",
    "## Sample 200 records from reddit_dataset\n",
    "reddit_sample = reddit_dataset.sample(n=200, random_state=42)"
   ]
  },
  {
   "cell_type": "code",
   "execution_count": 45,
   "metadata": {},
   "outputs": [],
   "source": [
    "## Create unigrams of titles and texts using analyzer for tokenization\n",
    "\n",
    "vectorizer = CountVectorizer()\n",
    "analyze = vectorizer.build_analyzer()\n",
    "reddit_dataset['title_unigrams'] = reddit_dataset['title'].apply(lambda x: analyze(x))\n",
    "reddit_dataset['text_unigrams'] = reddit_dataset['text'].apply(lambda x:analyze(x))"
   ]
  },
  {
   "cell_type": "code",
   "execution_count": 46,
   "metadata": {},
   "outputs": [
    {
     "data": {
      "text/plain": [
       "array(['000', '04', '08', '10', '100k', '10k', '11', '12', '125', '14',\n",
       "       '145', '16', '18', '1952', '20', '2008', '2014', '2022', '2025',\n",
       "       '22', '234', '250', '300', '34', '350', '415m', '43', '50', '75k',\n",
       "       'aal', 'about', 'acceleration', 'acquisition', 'administration',\n",
       "       'advantage', 'advantages', 'advice', 'advisors', 'aerospace',\n",
       "       'after', 'ahro', 'ai', 'airo', 'all', 'allies', 'alternus', 'amc',\n",
       "       'an', 'analysis', 'and', 'anix', 'announces', 'another', 'any',\n",
       "       'anybody', 'anyone', 'apls', 'apr', 'april', 'are', 'artw', 'as',\n",
       "       'asked', 'assets', 'at', 'atlx', 'atus', 'authority', 'auy',\n",
       "       'available', 'avoiding', 'awful', 'back', 'bagger', 'ballistc',\n",
       "       'bbig', 'be', 'been', 'begging', 'being', 'best', 'bets', 'big',\n",
       "       'bitcoin', 'bkkt', 'blackrock', 'blown', 'bnzi', 'bond', 'boys',\n",
       "       'breaking', 'bridging', 'bullish', 'bunch', 'busy', 'buy',\n",
       "       'buyback', 'buying', 'by', 'call', 'campaign', 'cancer', 'caps',\n",
       "       'cash', 'cel', 'chair', 'cheap', 'check', 'china', 'citadel',\n",
       "       'clean', 'climb', 'close', 'clov', 'clvs', 'cn', 'com',\n",
       "       'commitment', 'company', 'complete', 'confirmed', 'consecutive',\n",
       "       'consumer', 'continues', 'continuing', 'continuous', 'conversion',\n",
       "       'corp', 'corporate', 'cost', 'could', 'court', 'crash', 'crashing',\n",
       "       'crazy', 'crml', 'crushing', 'crypto', 'cse', 'ctrm', 'currency',\n",
       "       'current', 'cvm', 'daily', 'data', 'day', 'days', 'dd', 'deal',\n",
       "       'decision', 'declined', 'deep', 'defense', 'denial', 'discussion',\n",
       "       'dividend', 'dmac', 'do', 'doing', 'dollar', 'don', 'dont',\n",
       "       'downturn', 'driving', 'earnings', 'economic', 'effect', 'egox',\n",
       "       'either_breadfruit_90', 'electric', 'electric_seal2',\n",
       "       'electrovaya', 'eleven', 'elon', 'else', 'elva', 'energy', 'esque',\n",
       "       'established', 'ev', 'everywhere', 'evolution', 'fami', 'fcel',\n",
       "       'federal', 'feel', 'ffie', 'fink', 'fire', 'first', 'float',\n",
       "       'flow', 'following', 'for', 'forestry', 'formerly', 'founder',\n",
       "       'friday', 'from', 'fubo', 'fucking', 'full', 'fundamentals',\n",
       "       'gainers', 'gains', 'gamestop', 'gctk', 'general', 'giant', 'give',\n",
       "       'global', 'gme', 'gnpx', 'go', 'goes', 'going', 'gold', 'good',\n",
       "       'goods', 'got', 'graphite', 'green', 'grown', 'gsat', 'guys',\n",
       "       'had', 'happen', 'harleydog67', 'has', 'have', 'he', 'healthcare',\n",
       "       'heavily', 'hedges', 'hedgies', 'help', 'here', 'hertz', 'high',\n",
       "       'his', 'history', 'hit', 'hold', 'holders', 'holdings', 'holo',\n",
       "       'home', 'hope', 'hotline', 'how', 'https', 'htzgq', 'hulu',\n",
       "       'ideas', 'idiots', 'idkff', 'if', 'imported', 'in', 'inc',\n",
       "       'included', 'industry', 'initial', 'ino', 'insgm', 'inside',\n",
       "       'into', 'invest', 'investment', 'investors', 'ipo', 'is', 'it',\n",
       "       'its', 'jerome', 'jinping', 'just', 'kavl', 'killed', 'knows',\n",
       "       'larry', 'last', 'later', 'latest', 'launch', 'lcid', 'led',\n",
       "       'level', 'like', 'list', 'lives', 'longest', 'look', 'looking',\n",
       "       'losers', 'losing', 'lost', 'lounge', 'low', 'lowest', 'make',\n",
       "       'making', 'mara', 'march', 'marin', 'market', 'markets',\n",
       "       'massively', 'mastercard', 'may', 'me', 'media', 'mega', 'member',\n",
       "       'meme', 'menu', 'messenger', 'million', 'mining', 'misinformation',\n",
       "       'miss', 'mitigation', 'moementum', 'monday', 'money', 'moon',\n",
       "       'mooning', 'more', 'morning', 'mots', 'movers', 'mrin', 'mspr',\n",
       "       'multi', 'must', 'my', 'nakd', 'nasdaq', 'navigation', 'new',\n",
       "       'news', 'next', 'nintendo', 'nio', 'nkla', 'now', 'nvidia', 'o3',\n",
       "       'ocgn', 'of', 'off', 'offering', 'old', 'on', 'one', 'onemednet',\n",
       "       'or', 'ot', 'otc', 'our', 'out', 'own', 'page', 'pan', 'part',\n",
       "       'pbts', 'people', 'performance', 'pharmacokinetics', 'pieces',\n",
       "       'placement', 'platform', 'play', 'please', 'pltk', 'pltr', 'plug',\n",
       "       'plummets', 'plutotv', 'policy', 'portfolio', 'positive', 'post',\n",
       "       'potential', 'powell', 'power', 'ppsi', 'pre', 'premarket',\n",
       "       'president', 'private', 'promising', 'psqh', 'public', 'pumping',\n",
       "       'purpose', 'quarterly', 'quick', 'quickly', 'raises', 'rate',\n",
       "       'rather', 'read', 'ready', 'really', 'recession', 'records',\n",
       "       'release', 'reply', 'report', 'reserve', 'responds', 'results',\n",
       "       'retail', 'retardation', 'right', 'rise', 'rising', 'risk',\n",
       "       'risky', 'rkt', 'row', 'run', 'runner', 'safe', 'says', 'sci',\n",
       "       'sdc', 'second', 'see', 'seeing', 'seen', 'sell', 'sens',\n",
       "       'sentiment', 'sgbx', 'shares', 'shib', 'shoot', 'short', 'shorted',\n",
       "       'should', 'shows', 'silver', 'sitting', 'skt', 'slv', 'small',\n",
       "       'sndl', 'sneaked', 'so', 'social', 'software', 'sold', 'some',\n",
       "       'someone', 'soon', 'sp', 'spac', 'special', 'spending', 'squeeze',\n",
       "       'srne', 'stable', 'star', 'stock', 'stockmarket', 'stocks',\n",
       "       'stockstobuytoday', 'stocktwits', 'streak', 'streaming', 'study',\n",
       "       'subreddit', 'sun', 'supreme', 'surrounded', 'svre', 'syai',\n",
       "       'symbol', 'syntheia', 'tab', 'tanks', 'target', 'tariff',\n",
       "       'tariffs', 'tcda', 'tech', 'technical', 'tesla', 'than', 'thank',\n",
       "       'that', 'the', 'their', 'them', 'they', 'think', 'this',\n",
       "       'thousand', 'thread', 'through', 'ticker', 'tickets', 'tmmw', 'to',\n",
       "       'today', 'ton', 'too', 'took', 'top', 'topline', 'trader',\n",
       "       'trading', 'transition', 'treasuries', 'treasury', 'tree',\n",
       "       'trending', 'true', 'trump', 'trust', 'trying', 'tubi', 'turning',\n",
       "       'turns', 'tv', 'two', 'twtr', 'txmd', 'umping', 'under',\n",
       "       'undervalued', 'unexpected', 'unique', 'universal', 'until', 'up',\n",
       "       'upcoming', 'update', 'updates', 'uptrend', 'us', 'used', 'uup',\n",
       "       'vaccine', 'value', 'vcig', 'very', 'vix', 'vmar', 'vs', 'vxrt',\n",
       "       'waiting', 'wallstreetbets', 'warning', 'watch', 'watchlist',\n",
       "       'water', 'way', 'we', 'week', 'weekend', 'weekly', 'weeks', 'well',\n",
       "       'what', 'whats', 'while', 'who', 'why', 'wildfire', 'will',\n",
       "       'winners', 'with', 'worth', 'would', 'wsb', 'xi', 'xrtx', 'yamana',\n",
       "       'year', 'yield', 'yields', 'yolo', 'yoshitsu', 'you', 'your',\n",
       "       'ytd'], dtype=object)"
      ]
     },
     "execution_count": 46,
     "metadata": {},
     "output_type": "execute_result"
    }
   ],
   "source": [
    "## Learn and return document-term matrix\n",
    "title_vectorizer = CountVectorizer(analyzer=lambda x: x)\n",
    "text_vectorizer = CountVectorizer(analyzer=lambda x: x)\n",
    "dtm_title = title_vectorizer.fit_transform(reddit_dataset['title_unigrams'])\n",
    "dtm_text = text_vectorizer.fit_transform(reddit_dataset['text_unigrams'])\n",
    "\n",
    "## Compute term frequencies\n",
    "dtm_title_freq = dtm_title.toarray().sum(axis=0)\n",
    "dtm_text_freq = dtm_text.toarray().sum(axis=0)\n",
    "\n",
    "title_vectorizer.get_feature_names_out()"
   ]
  },
  {
   "cell_type": "code",
   "execution_count": 51,
   "metadata": {},
   "outputs": [
    {
     "data": {
      "application/vnd.plotly.v1+json": {
       "config": {
        "plotlyServerURL": "https://plot.ly"
       },
       "data": [
        {
         "hovertemplate": "x=%{x}<br>y=%{y}<extra></extra>",
         "legendgroup": "",
         "marker": {
          "color": "#636efa",
          "pattern": {
           "shape": ""
          }
         },
         "name": "",
         "orientation": "v",
         "showlegend": false,
         "textposition": "auto",
         "type": "bar",
         "x": [
          "the",
          "trump",
          "to",
          "is",
          "on",
          "2025",
          "for",
          "in",
          "china",
          "thread",
          "11",
          "weekend",
          "discussion",
          "of",
          "stocks",
          "with",
          "tariff",
          "us",
          "president",
          "policy",
          "his",
          "tariffs",
          "goods",
          "125",
          "now",
          "stock",
          "just",
          "10",
          "april",
          "daily",
          "all",
          "you",
          "and",
          "treasuries",
          "one",
          "after"
         ],
         "xaxis": "x",
         "y": {
          "bdata": "VgH7ANIAmACFAH8AfQB7AHoAaABnAGcAZgBfAFcAVgBVAFQAUgBJAEUARQBCAEIAQAA/AD0APAA3ADYANgA1ADUANAAzADMA",
          "dtype": "i2"
         },
         "yaxis": "y"
        }
       ],
       "layout": {
        "barmode": "relative",
        "legend": {
         "tracegroupgap": 0
        },
        "margin": {
         "t": 60
        },
        "template": {
         "data": {
          "bar": [
           {
            "error_x": {
             "color": "#2a3f5f"
            },
            "error_y": {
             "color": "#2a3f5f"
            },
            "marker": {
             "line": {
              "color": "#E5ECF6",
              "width": 0.5
             },
             "pattern": {
              "fillmode": "overlay",
              "size": 10,
              "solidity": 0.2
             }
            },
            "type": "bar"
           }
          ],
          "barpolar": [
           {
            "marker": {
             "line": {
              "color": "#E5ECF6",
              "width": 0.5
             },
             "pattern": {
              "fillmode": "overlay",
              "size": 10,
              "solidity": 0.2
             }
            },
            "type": "barpolar"
           }
          ],
          "carpet": [
           {
            "aaxis": {
             "endlinecolor": "#2a3f5f",
             "gridcolor": "white",
             "linecolor": "white",
             "minorgridcolor": "white",
             "startlinecolor": "#2a3f5f"
            },
            "baxis": {
             "endlinecolor": "#2a3f5f",
             "gridcolor": "white",
             "linecolor": "white",
             "minorgridcolor": "white",
             "startlinecolor": "#2a3f5f"
            },
            "type": "carpet"
           }
          ],
          "choropleth": [
           {
            "colorbar": {
             "outlinewidth": 0,
             "ticks": ""
            },
            "type": "choropleth"
           }
          ],
          "contour": [
           {
            "colorbar": {
             "outlinewidth": 0,
             "ticks": ""
            },
            "colorscale": [
             [
              0,
              "#0d0887"
             ],
             [
              0.1111111111111111,
              "#46039f"
             ],
             [
              0.2222222222222222,
              "#7201a8"
             ],
             [
              0.3333333333333333,
              "#9c179e"
             ],
             [
              0.4444444444444444,
              "#bd3786"
             ],
             [
              0.5555555555555556,
              "#d8576b"
             ],
             [
              0.6666666666666666,
              "#ed7953"
             ],
             [
              0.7777777777777778,
              "#fb9f3a"
             ],
             [
              0.8888888888888888,
              "#fdca26"
             ],
             [
              1,
              "#f0f921"
             ]
            ],
            "type": "contour"
           }
          ],
          "contourcarpet": [
           {
            "colorbar": {
             "outlinewidth": 0,
             "ticks": ""
            },
            "type": "contourcarpet"
           }
          ],
          "heatmap": [
           {
            "colorbar": {
             "outlinewidth": 0,
             "ticks": ""
            },
            "colorscale": [
             [
              0,
              "#0d0887"
             ],
             [
              0.1111111111111111,
              "#46039f"
             ],
             [
              0.2222222222222222,
              "#7201a8"
             ],
             [
              0.3333333333333333,
              "#9c179e"
             ],
             [
              0.4444444444444444,
              "#bd3786"
             ],
             [
              0.5555555555555556,
              "#d8576b"
             ],
             [
              0.6666666666666666,
              "#ed7953"
             ],
             [
              0.7777777777777778,
              "#fb9f3a"
             ],
             [
              0.8888888888888888,
              "#fdca26"
             ],
             [
              1,
              "#f0f921"
             ]
            ],
            "type": "heatmap"
           }
          ],
          "histogram": [
           {
            "marker": {
             "pattern": {
              "fillmode": "overlay",
              "size": 10,
              "solidity": 0.2
             }
            },
            "type": "histogram"
           }
          ],
          "histogram2d": [
           {
            "colorbar": {
             "outlinewidth": 0,
             "ticks": ""
            },
            "colorscale": [
             [
              0,
              "#0d0887"
             ],
             [
              0.1111111111111111,
              "#46039f"
             ],
             [
              0.2222222222222222,
              "#7201a8"
             ],
             [
              0.3333333333333333,
              "#9c179e"
             ],
             [
              0.4444444444444444,
              "#bd3786"
             ],
             [
              0.5555555555555556,
              "#d8576b"
             ],
             [
              0.6666666666666666,
              "#ed7953"
             ],
             [
              0.7777777777777778,
              "#fb9f3a"
             ],
             [
              0.8888888888888888,
              "#fdca26"
             ],
             [
              1,
              "#f0f921"
             ]
            ],
            "type": "histogram2d"
           }
          ],
          "histogram2dcontour": [
           {
            "colorbar": {
             "outlinewidth": 0,
             "ticks": ""
            },
            "colorscale": [
             [
              0,
              "#0d0887"
             ],
             [
              0.1111111111111111,
              "#46039f"
             ],
             [
              0.2222222222222222,
              "#7201a8"
             ],
             [
              0.3333333333333333,
              "#9c179e"
             ],
             [
              0.4444444444444444,
              "#bd3786"
             ],
             [
              0.5555555555555556,
              "#d8576b"
             ],
             [
              0.6666666666666666,
              "#ed7953"
             ],
             [
              0.7777777777777778,
              "#fb9f3a"
             ],
             [
              0.8888888888888888,
              "#fdca26"
             ],
             [
              1,
              "#f0f921"
             ]
            ],
            "type": "histogram2dcontour"
           }
          ],
          "mesh3d": [
           {
            "colorbar": {
             "outlinewidth": 0,
             "ticks": ""
            },
            "type": "mesh3d"
           }
          ],
          "parcoords": [
           {
            "line": {
             "colorbar": {
              "outlinewidth": 0,
              "ticks": ""
             }
            },
            "type": "parcoords"
           }
          ],
          "pie": [
           {
            "automargin": true,
            "type": "pie"
           }
          ],
          "scatter": [
           {
            "fillpattern": {
             "fillmode": "overlay",
             "size": 10,
             "solidity": 0.2
            },
            "type": "scatter"
           }
          ],
          "scatter3d": [
           {
            "line": {
             "colorbar": {
              "outlinewidth": 0,
              "ticks": ""
             }
            },
            "marker": {
             "colorbar": {
              "outlinewidth": 0,
              "ticks": ""
             }
            },
            "type": "scatter3d"
           }
          ],
          "scattercarpet": [
           {
            "marker": {
             "colorbar": {
              "outlinewidth": 0,
              "ticks": ""
             }
            },
            "type": "scattercarpet"
           }
          ],
          "scattergeo": [
           {
            "marker": {
             "colorbar": {
              "outlinewidth": 0,
              "ticks": ""
             }
            },
            "type": "scattergeo"
           }
          ],
          "scattergl": [
           {
            "marker": {
             "colorbar": {
              "outlinewidth": 0,
              "ticks": ""
             }
            },
            "type": "scattergl"
           }
          ],
          "scattermap": [
           {
            "marker": {
             "colorbar": {
              "outlinewidth": 0,
              "ticks": ""
             }
            },
            "type": "scattermap"
           }
          ],
          "scattermapbox": [
           {
            "marker": {
             "colorbar": {
              "outlinewidth": 0,
              "ticks": ""
             }
            },
            "type": "scattermapbox"
           }
          ],
          "scatterpolar": [
           {
            "marker": {
             "colorbar": {
              "outlinewidth": 0,
              "ticks": ""
             }
            },
            "type": "scatterpolar"
           }
          ],
          "scatterpolargl": [
           {
            "marker": {
             "colorbar": {
              "outlinewidth": 0,
              "ticks": ""
             }
            },
            "type": "scatterpolargl"
           }
          ],
          "scatterternary": [
           {
            "marker": {
             "colorbar": {
              "outlinewidth": 0,
              "ticks": ""
             }
            },
            "type": "scatterternary"
           }
          ],
          "surface": [
           {
            "colorbar": {
             "outlinewidth": 0,
             "ticks": ""
            },
            "colorscale": [
             [
              0,
              "#0d0887"
             ],
             [
              0.1111111111111111,
              "#46039f"
             ],
             [
              0.2222222222222222,
              "#7201a8"
             ],
             [
              0.3333333333333333,
              "#9c179e"
             ],
             [
              0.4444444444444444,
              "#bd3786"
             ],
             [
              0.5555555555555556,
              "#d8576b"
             ],
             [
              0.6666666666666666,
              "#ed7953"
             ],
             [
              0.7777777777777778,
              "#fb9f3a"
             ],
             [
              0.8888888888888888,
              "#fdca26"
             ],
             [
              1,
              "#f0f921"
             ]
            ],
            "type": "surface"
           }
          ],
          "table": [
           {
            "cells": {
             "fill": {
              "color": "#EBF0F8"
             },
             "line": {
              "color": "white"
             }
            },
            "header": {
             "fill": {
              "color": "#C8D4E3"
             },
             "line": {
              "color": "white"
             }
            },
            "type": "table"
           }
          ]
         },
         "layout": {
          "annotationdefaults": {
           "arrowcolor": "#2a3f5f",
           "arrowhead": 0,
           "arrowwidth": 1
          },
          "autotypenumbers": "strict",
          "coloraxis": {
           "colorbar": {
            "outlinewidth": 0,
            "ticks": ""
           }
          },
          "colorscale": {
           "diverging": [
            [
             0,
             "#8e0152"
            ],
            [
             0.1,
             "#c51b7d"
            ],
            [
             0.2,
             "#de77ae"
            ],
            [
             0.3,
             "#f1b6da"
            ],
            [
             0.4,
             "#fde0ef"
            ],
            [
             0.5,
             "#f7f7f7"
            ],
            [
             0.6,
             "#e6f5d0"
            ],
            [
             0.7,
             "#b8e186"
            ],
            [
             0.8,
             "#7fbc41"
            ],
            [
             0.9,
             "#4d9221"
            ],
            [
             1,
             "#276419"
            ]
           ],
           "sequential": [
            [
             0,
             "#0d0887"
            ],
            [
             0.1111111111111111,
             "#46039f"
            ],
            [
             0.2222222222222222,
             "#7201a8"
            ],
            [
             0.3333333333333333,
             "#9c179e"
            ],
            [
             0.4444444444444444,
             "#bd3786"
            ],
            [
             0.5555555555555556,
             "#d8576b"
            ],
            [
             0.6666666666666666,
             "#ed7953"
            ],
            [
             0.7777777777777778,
             "#fb9f3a"
            ],
            [
             0.8888888888888888,
             "#fdca26"
            ],
            [
             1,
             "#f0f921"
            ]
           ],
           "sequentialminus": [
            [
             0,
             "#0d0887"
            ],
            [
             0.1111111111111111,
             "#46039f"
            ],
            [
             0.2222222222222222,
             "#7201a8"
            ],
            [
             0.3333333333333333,
             "#9c179e"
            ],
            [
             0.4444444444444444,
             "#bd3786"
            ],
            [
             0.5555555555555556,
             "#d8576b"
            ],
            [
             0.6666666666666666,
             "#ed7953"
            ],
            [
             0.7777777777777778,
             "#fb9f3a"
            ],
            [
             0.8888888888888888,
             "#fdca26"
            ],
            [
             1,
             "#f0f921"
            ]
           ]
          },
          "colorway": [
           "#636efa",
           "#EF553B",
           "#00cc96",
           "#ab63fa",
           "#FFA15A",
           "#19d3f3",
           "#FF6692",
           "#B6E880",
           "#FF97FF",
           "#FECB52"
          ],
          "font": {
           "color": "#2a3f5f"
          },
          "geo": {
           "bgcolor": "white",
           "lakecolor": "white",
           "landcolor": "#E5ECF6",
           "showlakes": true,
           "showland": true,
           "subunitcolor": "white"
          },
          "hoverlabel": {
           "align": "left"
          },
          "hovermode": "closest",
          "mapbox": {
           "style": "light"
          },
          "paper_bgcolor": "white",
          "plot_bgcolor": "#E5ECF6",
          "polar": {
           "angularaxis": {
            "gridcolor": "white",
            "linecolor": "white",
            "ticks": ""
           },
           "bgcolor": "#E5ECF6",
           "radialaxis": {
            "gridcolor": "white",
            "linecolor": "white",
            "ticks": ""
           }
          },
          "scene": {
           "xaxis": {
            "backgroundcolor": "#E5ECF6",
            "gridcolor": "white",
            "gridwidth": 2,
            "linecolor": "white",
            "showbackground": true,
            "ticks": "",
            "zerolinecolor": "white"
           },
           "yaxis": {
            "backgroundcolor": "#E5ECF6",
            "gridcolor": "white",
            "gridwidth": 2,
            "linecolor": "white",
            "showbackground": true,
            "ticks": "",
            "zerolinecolor": "white"
           },
           "zaxis": {
            "backgroundcolor": "#E5ECF6",
            "gridcolor": "white",
            "gridwidth": 2,
            "linecolor": "white",
            "showbackground": true,
            "ticks": "",
            "zerolinecolor": "white"
           }
          },
          "shapedefaults": {
           "line": {
            "color": "#2a3f5f"
           }
          },
          "ternary": {
           "aaxis": {
            "gridcolor": "white",
            "linecolor": "white",
            "ticks": ""
           },
           "baxis": {
            "gridcolor": "white",
            "linecolor": "white",
            "ticks": ""
           },
           "bgcolor": "#E5ECF6",
           "caxis": {
            "gridcolor": "white",
            "linecolor": "white",
            "ticks": ""
           }
          },
          "title": {
           "x": 0.05
          },
          "xaxis": {
           "automargin": true,
           "gridcolor": "white",
           "linecolor": "white",
           "ticks": "",
           "title": {
            "standoff": 15
           },
           "zerolinecolor": "white",
           "zerolinewidth": 2
          },
          "yaxis": {
           "automargin": true,
           "gridcolor": "white",
           "linecolor": "white",
           "ticks": "",
           "title": {
            "standoff": 15
           },
           "zerolinecolor": "white",
           "zerolinewidth": 2
          }
         }
        },
        "title": {
         "text": "Term Frequencies in Reddit Texts"
        },
        "xaxis": {
         "anchor": "y",
         "domain": [
          0,
          1
         ],
         "tickangle": 90,
         "title": {
          "text": "Terms"
         }
        },
        "yaxis": {
         "anchor": "x",
         "domain": [
          0,
          1
         ],
         "title": {
          "text": "Frequencies"
         }
        }
       }
      }
     },
     "metadata": {},
     "output_type": "display_data"
    }
   ],
   "source": [
    "#Use plotly to visualize the term frequencies from most to least, filtering out term less than 50\n",
    "\n",
    "filtered_term = []\n",
    "filtered_freq = []\n",
    "\n",
    "for i in range(title_vectorizer.get_feature_names_out().shape[0]):\n",
    "    if dtm_title_freq[i] > 50:\n",
    "        filtered_term.append(title_vectorizer.get_feature_names_out()[i])\n",
    "        filtered_freq.append(dtm_title_freq[i])\n",
    "\n",
    "\n",
    "sorted_indices = np.argsort(filtered_freq)[::-1]\n",
    "filtered_term_np = np.array(filtered_term)\n",
    "filtered_freq_np = np.array(filtered_freq)\n",
    "sorted_terms = filtered_term_np[sorted_indices]\n",
    "sorted_freqs = filtered_freq_np[sorted_indices]\n",
    "fig = py.express.bar(x=sorted_terms, y=sorted_freqs)\n",
    "fig.update_layout(title_text='Term Frequencies in Reddit Texts', xaxis_title='Terms', yaxis_title='Frequencies', xaxis_tickangle=90)\n",
    "fig.show()"
   ]
  },
  {
   "cell_type": "markdown",
   "metadata": {},
   "source": [
    "# Phase 2"
   ]
  },
  {
   "cell_type": "code",
   "execution_count": 7,
   "metadata": {},
   "outputs": [],
   "source": [
    "### Begin Assignment Here"
   ]
  }
 ],
 "metadata": {
  "kernelspec": {
   "display_name": "Python (dm2025lab)",
   "language": "python",
   "name": "dm2025lab"
  },
  "language_info": {
   "codemirror_mode": {
    "name": "ipython",
    "version": 3
   },
   "file_extension": ".py",
   "mimetype": "text/x-python",
   "name": "python",
   "nbconvert_exporter": "python",
   "pygments_lexer": "ipython3",
   "version": "3.11.0"
  }
 },
 "nbformat": 4,
 "nbformat_minor": 4
}
